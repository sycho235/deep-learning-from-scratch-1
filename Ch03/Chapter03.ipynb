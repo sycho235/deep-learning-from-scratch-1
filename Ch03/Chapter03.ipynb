{
 "cells": [
  {
   "cell_type": "markdown",
   "metadata": {},
   "source": [
    "# Chapter 03 신경망"
   ]
  },
  {
   "cell_type": "markdown",
   "metadata": {},
   "source": [
    "__퍼셉트론__\n",
    "- (+) 복잡한 함수도 표현할 수 있음\n",
    "- (-) 가중치(w와 b)를 사람이 **수동**으로 설정해야 함 → __신경망__이 해결\n",
    "\n",
    "\n",
    "__신경망__\n",
    "- 가중치 매개변수의 적절한 값을 데이터로부터 **자동**으로 학습함"
   ]
  },
  {
   "cell_type": "markdown",
   "metadata": {},
   "source": [
    "## 3.1 퍼셉트론에서 신경망으로\n",
    "P.63"
   ]
  },
  {
   "cell_type": "markdown",
   "metadata": {},
   "source": [
    "### 3.1.1 신경망의 예\n",
    "\n",
    "<img src=\"./img/fig 3-1.png\" width=500>\n",
    "\n",
    "- 입력층(Input)\n",
    "- 출력층(Output)\n",
    "- 은닉층(Hidden) : 은닉층의 뉴런은 (입력층이나 출력층과 달리) 사람 눈에는 보이지 않는다."
   ]
  },
  {
   "cell_type": "markdown",
   "metadata": {},
   "source": [
    "### 3.1.2 퍼셉트론 복습\n",
    "\n",
    "<img src='./img/fig 3-2.png' width=300>\n",
    "\n",
    "$$y = \n",
    "\\begin{cases}\n",
    "0 \\quad (b + w_{1}x_{1} + w_{2}x_{2} \\leq 0)\\\\\n",
    "1 \\quad (b + w_{1}x_{1} + w_{2}x_{2} > 0)\n",
    "\\end{cases}$$\n",
    "\n",
    "- __b__ : __편향__을 나타내는 매개변수\n",
    "    - 뉴런이 얼마나 쉽게 활성화되느냐를 제어\n",
    "\n",
    "- __w$_{i}$__ : __가중치__를 나타내는 매개변수\n",
    "    - 각 신호의 영향력을 제어\n",
    "\n",
    "<br>\n",
    "\n",
    "<img src='./img/fig 3-3.png' width=300>\n",
    "\n",
    "가중치가 b이고 입력이 1인 뉴런 추가. (편향의 입력 신호는 항상 1)\n",
    "\n",
    "$$y = h(b + w_{1}x_{1} + w_{2}x_{2})$$<br>\n",
    "$$h(x) = \n",
    "\\begin{cases}\n",
    "0 \\quad (x \\leq 0)\\\\\n",
    "1 \\quad (x > 0)\n",
    "\\end{cases}$$\n",
    "- $h(x)$ 함수 : 입력이 0을 넘으면 1을 돌려주고, 입력이 0을 넘지 않으면 0을 돌려줌"
   ]
  },
  {
   "cell_type": "markdown",
   "metadata": {},
   "source": [
    "### 3.1.3 활성화 함수의 등장\n",
    "\n",
    "__활성화 함수__ `h(x)` : 입력 신호의 총합을 출력 신호로 변환하는 함수\n",
    "- 입력 신호의 총합이 활성화를 일으키는지를 정하는 역할\n",
    "\n",
    "$$a = b + w_{1}x_{1} + w_{2}x_{2}$$<br>\n",
    "$$y = h(a)$$\n",
    "\n",
    "<img src='./img/fig 3-4.png' width=300>"
   ]
  },
  {
   "cell_type": "markdown",
   "metadata": {},
   "source": [
    "※ WARNING_\n",
    "\n",
    "단순 퍼셉트론 : 단층 네트워크에서 계단 함수(임계값을 경계로 출력이 바뀌는 함수)를 활성화 함수로 사용한 모델\n",
    "\n",
    "다층 퍼셉트론 : 신경망"
   ]
  },
  {
   "cell_type": "markdown",
   "metadata": {},
   "source": [
    "## 3.2 활성화 함수\n",
    "P.68"
   ]
  },
  {
   "cell_type": "markdown",
   "metadata": {},
   "source": [
    "__계단 함수__ : 임계값을 경계로 출력이 바뀌는 함수\n",
    "- 퍼셉트론은 활성화 함수로 쓸 수 있는 여러 후보 중에서 계단 함수를 채용\n",
    "- **활성화 함수를 계단 함수에서 다른 함수로 변경**하는 것이 신경망의 키포인트"
   ]
  },
  {
   "cell_type": "markdown",
   "metadata": {},
   "source": [
    "### 3.2.1 시그모이드 함수\n",
    "\n",
    "__시그모이드 함수__\n",
    "- 신경망에서 자주 이용하는 활성화 함수\n",
    "\n",
    "$$ h(x) = \\frac{1}{1 + exp(-x)} $$"
   ]
  },
  {
   "cell_type": "markdown",
   "metadata": {},
   "source": [
    "### 3.2.2 계단 함수 구현하기"
   ]
  },
  {
   "cell_type": "code",
   "execution_count": 9,
   "metadata": {},
   "outputs": [],
   "source": [
    "# 넘파이 배열 지원하는 계단 함수 만들기\n",
    "def step_function(x):\n",
    "    y = x > 0\n",
    "    return y.astype(np.int)"
   ]
  },
  {
   "cell_type": "code",
   "execution_count": 10,
   "metadata": {},
   "outputs": [
    {
     "data": {
      "text/plain": [
       "array([-1.,  1.,  2.])"
      ]
     },
     "execution_count": 10,
     "metadata": {},
     "output_type": "execute_result"
    }
   ],
   "source": [
    "# x라는 넘파이 배열 생성\n",
    "import numpy as np\n",
    "x = np.array([-1.0, 1.0, 2.0])\n",
    "x"
   ]
  },
  {
   "cell_type": "code",
   "execution_count": 11,
   "metadata": {},
   "outputs": [
    {
     "data": {
      "text/plain": [
       "array([False,  True,  True])"
      ]
     },
     "execution_count": 11,
     "metadata": {},
     "output_type": "execute_result"
    }
   ],
   "source": [
    "# 넘파이 배열에 부등호 연산을 수행하면 bool 배열이 생성됨.\n",
    "y = x > 0\n",
    "y"
   ]
  },
  {
   "cell_type": "code",
   "execution_count": 12,
   "metadata": {},
   "outputs": [
    {
     "data": {
      "text/plain": [
       "array([0, 1, 1])"
      ]
     },
     "execution_count": 12,
     "metadata": {},
     "output_type": "execute_result"
    }
   ],
   "source": [
    "# 배열 y의 원소를 bool에서 int형으로 바꿔줌.\n",
    "y = y.astype(np.int)\n",
    "y"
   ]
  },
  {
   "cell_type": "markdown",
   "metadata": {},
   "source": [
    "### 3.2.3 계단 함수의 그래프"
   ]
  },
  {
   "cell_type": "code",
   "execution_count": 13,
   "metadata": {},
   "outputs": [
    {
     "data": {
      "image/png": "[encoded data removed]",
      "text/plain": [
       "<Figure size 432x288 with 1 Axes>"
      ]
     },
     "metadata": {
      "needs_background": "light"
     },
     "output_type": "display_data"
    }
   ],
   "source": [
    "import numpy as np\n",
    "import matplotlib.pylab as plt\n",
    "\n",
    "def step_function(x):\n",
    "    return np.array(x > 0, dtype=np.int)\n",
    "\n",
    "x = np.arange(-5.0, 5.0, 0.1)  # -5.0에서 5.0 전까지 0.1 간격의 넘파이 배열 생성\n",
    "y = step_function(x)\n",
    "plt.plot(x, y)\n",
    "plt.ylim(-0.1, 1.1)  # y축의 범위 지정\n",
    "plt.show()"
   ]
  },
  {
   "cell_type": "markdown",
   "metadata": {},
   "source": [
    "0을 경계로 출력이 0에서 1(또는 1에서 0)로 바뀜."
   ]
  },
  {
   "cell_type": "markdown",
   "metadata": {},
   "source": [
    "### 3.2.4 시그모이드 함수 구현하기"
   ]
  },
  {
   "cell_type": "code",
   "execution_count": 14,
   "metadata": {},
   "outputs": [],
   "source": [
    "def sigmoid(x):\n",
    "    return 1 / (1 + np.exp(-x))"
   ]
  },
  {
   "cell_type": "markdown",
   "metadata": {},
   "source": [
    "인수 x가 넘파이 배열이어도 올바른 결과가 나옴. (넘파이의 브로드캐스트 기능)"
   ]
  },
  {
   "cell_type": "code",
   "execution_count": 15,
   "metadata": {
    "scrolled": true
   },
   "outputs": [
    {
     "data": {
      "image/png": "[encoded data removed]",
      "text/plain": [
       "<Figure size 432x288 with 1 Axes>"
      ]
     },
     "metadata": {
      "needs_background": "light"
     },
     "output_type": "display_data"
    }
   ],
   "source": [
    "x = np.arange(-5.0, 5.0, 0.1)  # -5.0에서 5.0 전까지 0.1 간격의 넘파이 배열 생성\n",
    "y = sigmoid(x)\n",
    "plt.plot(x, y)\n",
    "plt.ylim(-0.1, 1.1)  # y축의 범위 지정\n",
    "plt.show()"
   ]
  },
  {
   "cell_type": "markdown",
   "metadata": {},
   "source": [
    "### 3.2.5 시그모이드 함수와 계단 함수 비교"
   ]
  },
  {
   "cell_type": "code",
   "execution_count": 16,
   "metadata": {},
   "outputs": [
    {
     "data": {
      "image/png": "[encoded data removed]",
      "text/plain": [
       "<Figure size 432x288 with 1 Axes>"
      ]
     },
     "metadata": {
      "needs_background": "light"
     },
     "output_type": "display_data"
    }
   ],
   "source": [
    "x = np.arange(-5.0, 5.0, 0.1)  # -5.0에서 5.0 전까지 0.1 간격의 넘파이 배열 생성\n",
    "y1 = step_function(x)\n",
    "y2 = sigmoid(x)\n",
    "plt.plot(x, y1, '--')\n",
    "plt.plot(x, y2)\n",
    "plt.ylim(-0.1, 1.1)  # y축의 범위 지정\n",
    "plt.show()"
   ]
  },
  {
   "cell_type": "markdown",
   "metadata": {},
   "source": [
    "**차이점**\n",
    "- 시그모이드 함수 : 부드러운 곡선. 출력이 실수(연속적).\n",
    "- 계단 함수 : 0을 경계로 출력이 갑자기 바뀜. 0과 1 중 하나의 값만.\n",
    "\n",
    "**공통점**\n",
    "- 입력이 작을 때의 출력은 0에 가깝고, 입력이 커지면 출력이 1에 가까워짐"
   ]
  },
  {
   "cell_type": "markdown",
   "metadata": {},
   "source": [
    "### 3.2.6 비선형 함수\n",
    "\n",
    "__선형 함수__ : 입력했을 때 출력이 입력의 상수배만큼 변하는 함수. 곧은 1개의 직선. ($f(x) = ax + b$)\n",
    "\n",
    "__비선형 함수__ : 직선 1개로는 그릴 수 없는 함수.\n",
    "\n",
    ">계단 함수와 시그모이드 함수는 모두 **비선형 함수**\n",
    "\n",
    "* 신경망에서는 활성화 함수로 __비선형 함수를 사용해야 함.__\n",
    "\n",
    "    * 선형 함수를 이용하면 신경망의 층을 깊게 하는 의미가 없어짐.<br>\n",
    "        (선형 함수로는 층을 아무리 깊게 해도 '은닉층이 없는 네트워크'로도 똑같은 기능을 할 수 있음)"
   ]
  },
  {
   "cell_type": "markdown",
   "metadata": {},
   "source": [
    "### 3.2.7 ReLU 함수\n",
    "\n",
    "__ReLU__ (Rectified Linear Unit, 렐루) 함수 : 입력이 0을 넘으면 그 입력을 그대로 출력하고, 0 이하이면 0을 출력하는 함수\n",
    "- 신경망에서 최근에 주로 이용하는 활성화 함수"
   ]
  },
  {
   "cell_type": "code",
   "execution_count": 17,
   "metadata": {},
   "outputs": [
    {
     "data": {
      "image/png": "[encoded data removed]",
      "text/plain": [
       "<Figure size 432x288 with 1 Axes>"
      ]
     },
     "metadata": {
      "needs_background": "light"
     },
     "output_type": "display_data"
    }
   ],
   "source": [
    "def relu(x):\n",
    "    return np.maximum(0, x)  # maximum은 두 입력 중 큰 값을 선택해 반환하는 함수\n",
    "\n",
    "x = np.arange(-5.0, 5.0, 0.1)  # -5.0에서 5.0 전까지 0.1 간격의 넘파이 배열 생성\n",
    "y = relu(x)\n",
    "plt.plot(x, y)\n",
    "plt.xlim(-6, 6)\n",
    "plt.ylim(-1, 5.5)  # y축의 범위 지정\n",
    "plt.show()"
   ]
  },
  {
   "cell_type": "markdown",
   "metadata": {},
   "source": [
    "## 3.3 다차원 배열의 계산\n",
    "P.77"
   ]
  },
  {
   "cell_type": "markdown",
   "metadata": {},
   "source": [
    "### 3.3.1 다차원 배열\n",
    "\n",
    "__다차원 배열__ : 숫자를 N차원으로 나열하는 것"
   ]
  },
  {
   "cell_type": "code",
   "execution_count": 18,
   "metadata": {},
   "outputs": [
    {
     "name": "stdout",
     "output_type": "stream",
     "text": [
      "[1 2 3 4]\n"
     ]
    }
   ],
   "source": [
    "# 1차원 배열 A\n",
    "import numpy as np\n",
    "\n",
    "A = np.array([1, 2, 3, 4])\n",
    "print(A)"
   ]
  },
  {
   "cell_type": "code",
   "execution_count": 19,
   "metadata": {
    "scrolled": true
   },
   "outputs": [
    {
     "data": {
      "text/plain": [
       "1"
      ]
     },
     "execution_count": 19,
     "metadata": {},
     "output_type": "execute_result"
    }
   ],
   "source": [
    "# 배열의 차원 수 확인\n",
    "np.ndim(A)"
   ]
  },
  {
   "cell_type": "code",
   "execution_count": 20,
   "metadata": {},
   "outputs": [
    {
     "data": {
      "text/plain": [
       "(4,)"
      ]
     },
     "execution_count": 20,
     "metadata": {},
     "output_type": "execute_result"
    }
   ],
   "source": [
    "# 배열의 형상 확인\n",
    "A.shape  # 튜플 반환"
   ]
  },
  {
   "cell_type": "code",
   "execution_count": 21,
   "metadata": {},
   "outputs": [
    {
     "data": {
      "text/plain": [
       "4"
      ]
     },
     "execution_count": 21,
     "metadata": {},
     "output_type": "execute_result"
    }
   ],
   "source": [
    "A.shape[0]"
   ]
  },
  {
   "cell_type": "code",
   "execution_count": 22,
   "metadata": {},
   "outputs": [
    {
     "name": "stdout",
     "output_type": "stream",
     "text": [
      "[[1 2]\n",
      " [3 4]\n",
      " [5 6]]\n"
     ]
    }
   ],
   "source": [
    "# 2차원 배열 B\n",
    "B = np.array([[1,2], [3,4], [5,6]])\n",
    "print(B)"
   ]
  },
  {
   "cell_type": "code",
   "execution_count": 23,
   "metadata": {
    "scrolled": true
   },
   "outputs": [
    {
     "data": {
      "text/plain": [
       "2"
      ]
     },
     "execution_count": 23,
     "metadata": {},
     "output_type": "execute_result"
    }
   ],
   "source": [
    "np.ndim(B)"
   ]
  },
  {
   "cell_type": "code",
   "execution_count": 24,
   "metadata": {},
   "outputs": [
    {
     "data": {
      "text/plain": [
       "(3, 2)"
      ]
     },
     "execution_count": 24,
     "metadata": {},
     "output_type": "execute_result"
    }
   ],
   "source": [
    "B.shape"
   ]
  },
  {
   "cell_type": "markdown",
   "metadata": {},
   "source": [
    "$$\\begin{pmatrix} 1 & 2 \\\\ 3 & 4 \\\\ 5 & 6 \\end{pmatrix}$$\n",
    "\n",
    "- 행렬(matrix) : 2차원 배열\n",
    "- 행(row) : 가로 방향\n",
    "- 열(column) : 세로 방향"
   ]
  },
  {
   "cell_type": "markdown",
   "metadata": {},
   "source": [
    "### 3.3.2 행렬의 곱\n",
    "\n",
    "왼쪽 행렬의 행과 오른쪽 행렬의 열을 원소별로 곱하고 그 값들을 더해서 계산함. 새로운 다차원 배열의 원소가 됨.\n",
    "\n",
    "\n",
    "`np.dot()`\n",
    "- 입력이 1차원 배열이면 벡터를, 2차원 배열이면 행렬 곱을 계산."
   ]
  },
  {
   "cell_type": "code",
   "execution_count": 25,
   "metadata": {},
   "outputs": [
    {
     "data": {
      "text/plain": [
       "(2, 2)"
      ]
     },
     "execution_count": 25,
     "metadata": {},
     "output_type": "execute_result"
    }
   ],
   "source": [
    "A = np.array([[1,2], [3,4]])\n",
    "A.shape"
   ]
  },
  {
   "cell_type": "code",
   "execution_count": 26,
   "metadata": {},
   "outputs": [
    {
     "data": {
      "text/plain": [
       "(2, 2)"
      ]
     },
     "execution_count": 26,
     "metadata": {},
     "output_type": "execute_result"
    }
   ],
   "source": [
    "B = np.array([[5,6], [7,8]])\n",
    "B.shape"
   ]
  },
  {
   "cell_type": "code",
   "execution_count": 27,
   "metadata": {},
   "outputs": [
    {
     "data": {
      "text/plain": [
       "array([[19, 22],\n",
       "       [43, 50]])"
      ]
     },
     "execution_count": 27,
     "metadata": {},
     "output_type": "execute_result"
    }
   ],
   "source": [
    "np.dot(A, B)"
   ]
  },
  {
   "cell_type": "code",
   "execution_count": 28,
   "metadata": {},
   "outputs": [
    {
     "data": {
      "text/plain": [
       "array([[23, 34],\n",
       "       [31, 46]])"
      ]
     },
     "execution_count": 28,
     "metadata": {},
     "output_type": "execute_result"
    }
   ],
   "source": [
    "# 행렬의 곱에서는 피연산자의 순서가 다르면 결과도 다름\n",
    "np.dot(B, A)"
   ]
  },
  {
   "cell_type": "code",
   "execution_count": 29,
   "metadata": {},
   "outputs": [
    {
     "data": {
      "text/plain": [
       "(2, 3)"
      ]
     },
     "execution_count": 29,
     "metadata": {},
     "output_type": "execute_result"
    }
   ],
   "source": [
    "# 다차원 배열을 곱하려면 두 행렬의 대응하는 차원의 원소 수를 일치시켜야 함.\n",
    "A = np.array([[1,2,3], [4,5,6]])\n",
    "A.shape"
   ]
  },
  {
   "cell_type": "code",
   "execution_count": 30,
   "metadata": {},
   "outputs": [
    {
     "data": {
      "text/plain": [
       "(3, 2)"
      ]
     },
     "execution_count": 30,
     "metadata": {},
     "output_type": "execute_result"
    }
   ],
   "source": [
    "B = np.array([[1,2], [3,4], [5,6]])\n",
    "B.shape"
   ]
  },
  {
   "cell_type": "code",
   "execution_count": 31,
   "metadata": {},
   "outputs": [
    {
     "data": {
      "text/plain": [
       "array([[22, 28],\n",
       "       [49, 64]])"
      ]
     },
     "execution_count": 31,
     "metadata": {},
     "output_type": "execute_result"
    }
   ],
   "source": [
    "np.dot(A, B)"
   ]
  },
  {
   "cell_type": "code",
   "execution_count": 32,
   "metadata": {},
   "outputs": [
    {
     "data": {
      "text/plain": [
       "(3, 2)"
      ]
     },
     "execution_count": 32,
     "metadata": {},
     "output_type": "execute_result"
    }
   ],
   "source": [
    "A = np.array([[1,2], [3,4], [5,6]])\n",
    "A.shape"
   ]
  },
  {
   "cell_type": "code",
   "execution_count": 33,
   "metadata": {},
   "outputs": [
    {
     "data": {
      "text/plain": [
       "(2,)"
      ]
     },
     "execution_count": 33,
     "metadata": {},
     "output_type": "execute_result"
    }
   ],
   "source": [
    "B = np.array([7,8])\n",
    "B.shape"
   ]
  },
  {
   "cell_type": "code",
   "execution_count": 34,
   "metadata": {
    "scrolled": true
   },
   "outputs": [
    {
     "data": {
      "text/plain": [
       "array([23, 53, 83])"
      ]
     },
     "execution_count": 34,
     "metadata": {},
     "output_type": "execute_result"
    }
   ],
   "source": [
    "np.dot(A, B)"
   ]
  },
  {
   "cell_type": "markdown",
   "metadata": {},
   "source": [
    "### 3.3.3 신경망에서의 행렬 곱\n",
    "\n",
    "넘파이 행렬을 써서 편향과 활성화 함수를 생략하고 가중치만 갖는 신경망 구현.\n",
    "\n",
    "<img src='./img/fig 3-14.png' width=600>"
   ]
  },
  {
   "cell_type": "code",
   "execution_count": 35,
   "metadata": {},
   "outputs": [
    {
     "data": {
      "text/plain": [
       "(2,)"
      ]
     },
     "execution_count": 35,
     "metadata": {},
     "output_type": "execute_result"
    }
   ],
   "source": [
    "X = np.array([1,2])\n",
    "X.shape"
   ]
  },
  {
   "cell_type": "code",
   "execution_count": 36,
   "metadata": {},
   "outputs": [
    {
     "name": "stdout",
     "output_type": "stream",
     "text": [
      "[[1 3 5]\n",
      " [2 4 6]]\n",
      "(2, 3)\n"
     ]
    }
   ],
   "source": [
    "W = np.array([[1,3,5], [2,4,6]])\n",
    "print(W)\n",
    "print(W.shape)"
   ]
  },
  {
   "cell_type": "code",
   "execution_count": 37,
   "metadata": {},
   "outputs": [
    {
     "name": "stdout",
     "output_type": "stream",
     "text": [
      "[ 5 11 17]\n"
     ]
    }
   ],
   "source": [
    "Y = np.dot(X, W)\n",
    "print(Y)"
   ]
  },
  {
   "cell_type": "markdown",
   "metadata": {},
   "source": [
    "## 3.4 3층 신경망 구현하기\n",
    "P.83"
   ]
  },
  {
   "cell_type": "markdown",
   "metadata": {},
   "source": [
    "입력부터 출력까지의 처리(순방향 처리) 3층 신경망 구현.\n",
    "- 넘파이의 다차원 배열 사용\n",
    "\n",
    "<img src='./img/fig 3-15.png' width=600>"
   ]
  },
  {
   "cell_type": "markdown",
   "metadata": {},
   "source": [
    "### 3.4.1 표기법 설명\n",
    "\n",
    "<img src='./img/fig 3-16.png' width=600>"
   ]
  },
  {
   "cell_type": "markdown",
   "metadata": {},
   "source": [
    "### 3.4.2 각 층의 신호 전달 구현하기"
   ]
  },
  {
   "cell_type": "markdown",
   "metadata": {},
   "source": [
    "#### 입력층에서 1층으로의 신호 전달\n",
    "\n",
    "<img src='./img/fig 3-17.png' width=600>\n",
    "\n",
    "- 편향을 뜻하는 뉴런인 ①이 추가됨.\n",
    "- 편향은 오른쪽 아래 인덱스가 하나밖에 없음.\n",
    "\n",
    "<img src='./img/e 3.8.png' width=210>\n",
    "\n",
    "<img src='./img/e 3.9.png' width=150>\n",
    "\n",
    "$$A = \\begin{pmatrix} a_1^{(1)} & a_2^{(1)} & a_3^{(1)} \\end{pmatrix}, X = \\begin{pmatrix} x_1 & x_2 \\end{pmatrix}, B = \\begin{pmatrix} b_1^{(1)} & b_2^{(1)} & b_3^{(1)} \\end{pmatrix}$$<br>\n",
    "$$W^{(1)} = \\begin{pmatrix} w_{11}^{(1)} & w_{21}^{(1)} & w_{31}^{(1)} \\\\ w_{12}^{(1)} & w_{22}^{(1)} & w_{32}^{(1)} \\end{pmatrix}$$"
   ]
  },
  {
   "cell_type": "code",
   "execution_count": 38,
   "metadata": {},
   "outputs": [
    {
     "name": "stdout",
     "output_type": "stream",
     "text": [
      "(2,)\n",
      "(2, 3)\n",
      "(3,)\n"
     ]
    }
   ],
   "source": [
    "X = np.array([1.0, 0.5])\n",
    "W1 = np.array([[0.1, 0.3, 0.5], [0.2, 0.4, 0.6]])\n",
    "B1 = np.array([0.1, 0.2, 0.3])\n",
    "\n",
    "print(X.shape)\n",
    "print(W1.shape)\n",
    "print(B1.shape)"
   ]
  },
  {
   "cell_type": "code",
   "execution_count": 39,
   "metadata": {},
   "outputs": [],
   "source": [
    "A1 = np.dot(X, W1) + B1"
   ]
  },
  {
   "cell_type": "markdown",
   "metadata": {},
   "source": [
    "#### 1층의 활성화 함수에서의 처리\n",
    "\n",
    "<img src='./img/fig 3-18.png' width=600>\n",
    "\n",
    "- 활성화 함수로 시그모이드 함수 사용"
   ]
  },
  {
   "cell_type": "code",
   "execution_count": 40,
   "metadata": {},
   "outputs": [
    {
     "name": "stdout",
     "output_type": "stream",
     "text": [
      "[0.3 0.7 1.1]\n",
      "[0.57444252 0.66818777 0.75026011]\n"
     ]
    }
   ],
   "source": [
    "Z1 = sigmoid(A1)  # 넘파이 배열을 받아 같은 수의 원소로 구성된 넘파이 배열 반환\n",
    "\n",
    "print(A1)\n",
    "print(Z1)"
   ]
  },
  {
   "cell_type": "markdown",
   "metadata": {},
   "source": [
    "#### 1층에서 2층으로의 신호 전달\n",
    "\n",
    "<img src='./img/fig 3-19.png' width=600>"
   ]
  },
  {
   "cell_type": "code",
   "execution_count": 41,
   "metadata": {},
   "outputs": [
    {
     "name": "stdout",
     "output_type": "stream",
     "text": [
      "(3,)\n",
      "(3, 2)\n",
      "(2,)\n"
     ]
    }
   ],
   "source": [
    "W2 = np.array([[0.1, 0.4], [0.2, 0.5], [0.3, 0.6]])\n",
    "B2 = np.array([0.1, 0.2])\n",
    "\n",
    "print(Z1.shape)\n",
    "print(W2.shape)\n",
    "print(B2.shape)"
   ]
  },
  {
   "cell_type": "code",
   "execution_count": 42,
   "metadata": {},
   "outputs": [],
   "source": [
    "A2 = np.dot(Z1, W2) + B2\n",
    "Z2 = sigmoid(A2)"
   ]
  },
  {
   "cell_type": "markdown",
   "metadata": {},
   "source": [
    "#### 2층에서 출력층으로의 신호 전달\n",
    "\n",
    "<img src='./img/fig 3-20.png' width=600>\n",
    "\n",
    "- 활성화 함수만 앞의 은닉층과 다름."
   ]
  },
  {
   "cell_type": "code",
   "execution_count": 43,
   "metadata": {},
   "outputs": [],
   "source": [
    "# 앞의 흐름과 통일하기 위해 항등 함수 정의\n",
    "def identity_function(x):\n",
    "    return x\n",
    "\n",
    "W3 = np.array([[0.1, 0.3], [0.2, 0.4]])\n",
    "B3 = np.array([0.1, 0.2])\n",
    "\n",
    "A3 = np.dot(Z2, W3) + B3\n",
    "Y = identity_function(A3)  # 혹은 Y = A3"
   ]
  },
  {
   "cell_type": "markdown",
   "metadata": {},
   "source": [
    "※ NOTE_\n",
    "\n",
    "__출력층의 활성화 함수__\n",
    "\n",
    "- 회귀 - 항등 함수\n",
    "- 2클래스 분류 - 시그모이드 함수\n",
    "- 다중 클래스 분류 - 소프트맥스 함수"
   ]
  },
  {
   "cell_type": "markdown",
   "metadata": {},
   "source": [
    "### 3.4.3 구현 정리\n",
    "\n",
    "\n",
    "__함수 정의__\n",
    "\n",
    "1. init_network() 함수\n",
    "    - 가중치와 편향을 초기화\n",
    "    - 딕셔너리 변수인 network에 매개변수(가중치와 편향) 저장\n",
    "    \n",
    "    \n",
    "2. forword() 함수\n",
    "    - 입력 신호를 출력으로 변환\n",
    "    - 순방향(입력에서 출력 방향)"
   ]
  },
  {
   "cell_type": "code",
   "execution_count": 44,
   "metadata": {},
   "outputs": [
    {
     "name": "stdout",
     "output_type": "stream",
     "text": [
      "[0.31682708 0.69627909]\n"
     ]
    }
   ],
   "source": [
    "def init_network():\n",
    "    network = {}\n",
    "    network['W1'] = np.array([[0.1, 0.3, 0.5], [0.2, 0.4, 0.6]])\n",
    "    network['b1'] = np.array([0.1, 0.2, 0.3])\n",
    "    network['W2'] = np.array([[0.1, 0.4], [0.2, 0.5], [0.3, 0.6]])\n",
    "    network['b2'] = np.array([0.1, 0.2])\n",
    "    network['W3'] = np.array([[0.1, 0.3], [0.2, 0.4]])\n",
    "    network['b3'] = np.array([0.1, 0.2])\n",
    "    \n",
    "    return network\n",
    "\n",
    "def forward(network, x):\n",
    "    W1, W2, W3 = network['W1'], network['W2'], network['W3']\n",
    "    b1, b2, b3 = network['b1'], network['b2'], network['b3']\n",
    "    \n",
    "    a1 = np.dot(x, W1) + b1\n",
    "    z1 = sigmoid(a1)\n",
    "    a2 = np.dot(z1, W2) + b2\n",
    "    z2 = sigmoid(a2)\n",
    "    a3 = np.dot(z2, W3) + b3\n",
    "    y = identity_function(a3)\n",
    "    \n",
    "    return y\n",
    "\n",
    "network = init_network()\n",
    "x = np.array([1.0, 0.5])\n",
    "y = forward(network, x)\n",
    "print(y)"
   ]
  },
  {
   "cell_type": "markdown",
   "metadata": {},
   "source": [
    "## 3.5 출력층 설계하기\n",
    "P.90"
   ]
  },
  {
   "cell_type": "markdown",
   "metadata": {},
   "source": [
    "신경망은 분류와 회귀 모두에 이용할 수 있음. 단, 활성화 함수가 다름.\n",
    "\n",
    "- 회귀 - 항등 함수\n",
    "- 분류 - 소프트맥스 함수"
   ]
  },
  {
   "cell_type": "markdown",
   "metadata": {},
   "source": [
    "### 3.5.1 항등 함수와 소프트맥스 함수 구현하기\n",
    "\n",
    "__항등 함수__\n",
    "\n",
    "- 입력을 그대로 출력\n",
    "\n",
    "<img src='./img/fig 3-21.png' width=150>\n",
    "\n",
    "<br>\n",
    "\n",
    "__소프트맥스 함수__\n",
    "\n",
    "$$y_k = \\frac{exp(a_k)}{\\displaystyle\\sum_{i=1}^n exp(a_i)}$$\n",
    "\n",
    "- n : 출력층의 뉴런 수 / $y_k$ : k번째 출력\n",
    "- 출력층의 각 뉴런이 모든 입력 신호의 영향을 받음. (분모가 모든 입력 신호의 지수 함수의 합으로 구성됨.)\n",
    "\n",
    "<img src='./img/fig 3-22.png' width=150>\n",
    "\n",
    "- 소프트맥스의 출력은 모든 입력 신호로부터 화살표를 받음."
   ]
  },
  {
   "cell_type": "code",
   "execution_count": 45,
   "metadata": {},
   "outputs": [
    {
     "name": "stdout",
     "output_type": "stream",
     "text": [
      "[ 1.34985881 18.17414537 54.59815003]\n",
      "74.1221542101633\n",
      "[0.01821127 0.24519181 0.73659691]\n"
     ]
    }
   ],
   "source": [
    "a = np.array([0.3, 2.9, 4.0])\n",
    "\n",
    "exp_a = np.exp(a)  # 지수 함수\n",
    "print(exp_a)\n",
    "\n",
    "sum_exp_a = np.sum(exp_a)  # 지수 함수의 합\n",
    "print(sum_exp_a)\n",
    "\n",
    "y = exp_a / sum_exp_a\n",
    "print(y)"
   ]
  },
  {
   "cell_type": "code",
   "execution_count": 46,
   "metadata": {},
   "outputs": [],
   "source": [
    "def softmax(a):\n",
    "    exp_a = np.exp(a)\n",
    "    sum_exp_a = np.sum(exp_a)\n",
    "    y = exp_a / sum_exp_a\n",
    "    \n",
    "    return y"
   ]
  },
  {
   "cell_type": "markdown",
   "metadata": {},
   "source": [
    "### 3.5.2 소프트맥스 함수 구현 시 주의점\n",
    "\n",
    "컴퓨터는 표현할 수 있는 수의 범위가 한정되어 너무 큰 값은 표현할 수 없음. → **오버플로**\n",
    "\n",
    ">소프트맥스의 지수 함수를 계산할 때 __어떤 정수를 더해도 (혹은 빼도) 결과가 바뀌지 않는다__는 것을 이용해 문제 해결\n",
    "\n",
    "<img src='./img/e 3.11.png' width=300>\n",
    "\n",
    "- C'으로 일반적으로 입력 신호 중 최댓값을 이용함. (최댓값을 빼줌)"
   ]
  },
  {
   "cell_type": "code",
   "execution_count": 47,
   "metadata": {},
   "outputs": [
    {
     "name": "stderr",
     "output_type": "stream",
     "text": [
      "<ipython-input-47-a1e496ec493a>:2: RuntimeWarning: overflow encountered in exp\n",
      "  np.exp(a) / np.sum(np.exp(a))  # 소프트맥스 함수의 계산\n",
      "<ipython-input-47-a1e496ec493a>:2: RuntimeWarning: invalid value encountered in true_divide\n",
      "  np.exp(a) / np.sum(np.exp(a))  # 소프트맥스 함수의 계산\n"
     ]
    },
    {
     "data": {
      "text/plain": [
       "array([nan, nan, nan])"
      ]
     },
     "execution_count": 47,
     "metadata": {},
     "output_type": "execute_result"
    }
   ],
   "source": [
    "a = np.array([1010, 1000, 990])\n",
    "np.exp(a) / np.sum(np.exp(a))  # 소프트맥스 함수의 계산"
   ]
  },
  {
   "cell_type": "markdown",
   "metadata": {},
   "source": [
    "⇒ 제대로 계산되지 않는다."
   ]
  },
  {
   "cell_type": "code",
   "execution_count": 48,
   "metadata": {},
   "outputs": [
    {
     "data": {
      "text/plain": [
       "array([  0, -10, -20])"
      ]
     },
     "execution_count": 48,
     "metadata": {},
     "output_type": "execute_result"
    }
   ],
   "source": [
    "c = np.max(a)  # c = 1010 (최댓값)\n",
    "a - c"
   ]
  },
  {
   "cell_type": "code",
   "execution_count": 49,
   "metadata": {},
   "outputs": [
    {
     "data": {
      "text/plain": [
       "array([9.99954600e-01, 4.53978686e-05, 2.06106005e-09])"
      ]
     },
     "execution_count": 49,
     "metadata": {},
     "output_type": "execute_result"
    }
   ],
   "source": [
    "np.exp(a - c) / np.sum(np.exp(a - c))"
   ]
  },
  {
   "cell_type": "code",
   "execution_count": 50,
   "metadata": {},
   "outputs": [],
   "source": [
    "def softmax(a):\n",
    "    c = np.max(a)\n",
    "    exp_a = np.exp(a - c)  # 오버플로 대책\n",
    "    sum_exp_a = np.sum(exp_a)\n",
    "    y = exp_a / sum_exp_a\n",
    "    \n",
    "    return y"
   ]
  },
  {
   "cell_type": "markdown",
   "metadata": {},
   "source": [
    "### 3.5.3 소프트맥스 함수의 특징"
   ]
  },
  {
   "cell_type": "code",
   "execution_count": 51,
   "metadata": {},
   "outputs": [
    {
     "name": "stdout",
     "output_type": "stream",
     "text": [
      "[0.01821127 0.24519181 0.73659691]\n"
     ]
    }
   ],
   "source": [
    "a = np.array([0.3, 2.9, 4.0])\n",
    "y = softmax(a)\n",
    "print(y)"
   ]
  },
  {
   "cell_type": "code",
   "execution_count": 52,
   "metadata": {},
   "outputs": [
    {
     "data": {
      "text/plain": [
       "1.0"
      ]
     },
     "execution_count": 52,
     "metadata": {},
     "output_type": "execute_result"
    }
   ],
   "source": [
    "np.sum(y)"
   ]
  },
  {
   "cell_type": "markdown",
   "metadata": {},
   "source": [
    "1. 소프트맥스 함수의 출력은 0에서 1.0 사이의 실수\n",
    "2. 소프트맥스 함수의 출력의 총합은 1\n",
    ">출력을 __'확률'__로 해석할 수 있음.\n",
    "3. 소프트맥스 함수를 적용해도 각 원소의 대소 관계는 변하지 않음.\n",
    ">신경망으로 분류할 때는 __출력층의 소프트맥스 함수를 생략__해도 됨."
   ]
  },
  {
   "cell_type": "markdown",
   "metadata": {},
   "source": [
    "※ NOTE_\n",
    "\n",
    "- 추론(test) - 출력층의 소프트맥스 함수를 생략\n",
    "- 학습(train) - 출력층에서 소프트맥스 함수를 사용 (4장 참고)"
   ]
  },
  {
   "cell_type": "markdown",
   "metadata": {},
   "source": [
    "### 3.5.4 출력층의 뉴런 수 정하기\n",
    "\n",
    "출력층의 뉴런 수는 풀려는 문제에 맞게 적절히 정해야 함.\n",
    "\n",
    "    e.g. 분류 - 분류하고 싶은 클래스 수로 설정\n",
    "\n",
    "<img src='./img/fig 3-23.png' width=500>\n",
    "\n",
    "- 가장 큰 값을 출력하는 뉴런($y_2$)을 선택함."
   ]
  },
  {
   "cell_type": "markdown",
   "metadata": {},
   "source": [
    "## 3.6 손글씨 숫자 인식\n",
    "P.96"
   ]
  },
  {
   "cell_type": "markdown",
   "metadata": {},
   "source": [
    "__손글씨 숫자 분류__\n",
    "- 이미 학습된 매개변수를 사용 (학습 과정 생략)\n",
    "- 추론 과정(=순전파)만 구현\n",
    "\n",
    "<br>\n",
    "\n",
    "※ NOTE_\n",
    "\n",
    "신경망의 두 단계\n",
    "1. 학습 단계 : 훈련 데이터(학습 데이터)를 사용해 가중치 매개변수 학습\n",
    "2. 추론 단계 : 앞서 학습한 매개변수를 사용하여 입력 데이터를 분류"
   ]
  },
  {
   "cell_type": "markdown",
   "metadata": {},
   "source": [
    "### 3.6.1 MNIST 데이터셋\n",
    "\n",
    "__MNIST 데이터셋__ : 손글씨 숫자 이미지 집합\n",
    "- 0~9의 숫자 이미지로 구성\n",
    "- 훈련 이미지가 60,000장, 시험 이미지가 10,000장\n",
    "\n",
    "<img src='./img/fig 3-24.png' width=400>\n",
    "\n",
    "__MNIST의 이미지 데이터__\n",
    "- $28 \\times 28$ 크기의 회색조 이미지(1채널)\n",
    "- 각 픽셀은 0~255의 값을 취함\n",
    "- 각 이미지에는 그 이미지가 실제 의미하는 숫자가 레이블로 붙어있음"
   ]
  },
  {
   "cell_type": "markdown",
   "metadata": {},
   "source": [
    "`mnist.py` MNIST 데이터셋을 내려받아 이미지를 넘파이 배열로 변환해줌\n",
    "\n",
    "`load_mnist()`\n",
    "\n",
    "인수\n",
    "- normalize (_bool_) : 입력 이미지의 픽셀 값을 0.0~1.0 사이의 값으로 정규화할지\n",
    "    - False : 0~255 사이의 값 유지\n",
    "- flatten (_bool_) : 1차원 배열로 만들지\n",
    "    - False : $1 \\times 28 \\times 28$의 3차원 배열\n",
    "    - True : 784개의 원소로 이뤄진 1차원 배열\n",
    "- one_hot_label (_bool_) : 원-핫 인코딩 형태로 저장할지\n",
    "    - False : 숫자 형태의 레이블을 저장 (e.g. '2')\n",
    "    - True : 원-핫 인코딩하여 저장 (e.g. [0,0,1,0,0,0,0,0,0,0])\n",
    "    \n",
    "반환\n",
    "- MNIST 데이터를 \"(훈련 이미지, 훈련 레이블), (시험 이미지, 시험 레이블)\" 형식으로 반환"
   ]
  },
  {
   "cell_type": "markdown",
   "metadata": {},
   "source": [
    "※ NOTE_\n",
    "\n",
    "__pickle__ : 프로그램 실행 중에 특정 객체를 파일로 저장하는 기능. 실행 당시의 객체를 즉시 복원할 수 있음.\n",
    "- dataframe을 pickle 파일로 저장하기 : df.to_pickle(\"data.pkl\")\n",
    "- pickle 파일을 dataframe으로 불러오기 : df = pd.read_pickle(\"data.pkl\")"
   ]
  },
  {
   "cell_type": "code",
   "execution_count": 53,
   "metadata": {},
   "outputs": [
    {
     "name": "stdout",
     "output_type": "stream",
     "text": [
      "(60000, 784)\n",
      "(60000,)\n",
      "(10000, 784)\n",
      "(10000,)\n"
     ]
    }
   ],
   "source": [
    "import sys, os\n",
    "sys.path.append(os.pardir)  # 부모 디렉터리의 파일을 가져올 수 있도록 설정\n",
    "from dataset.mnist import load_mnist  # dataset/mnist.py의 load_mnist 함수를 임포트\n",
    "\n",
    "# 처음 한 번은 몇 분 정도 걸립니다.\n",
    "(x_train, t_train), (x_test, t_test) = load_mnist(flatten=True, normalize=False)\n",
    "\n",
    "# 각 데이터의 형상 출력\n",
    "print(x_train.shape)\n",
    "print(t_train.shape)\n",
    "print(x_test.shape)\n",
    "print(t_test.shape)"
   ]
  },
  {
   "cell_type": "markdown",
   "metadata": {},
   "source": [
    "__MNIST 이미지를 화면으로 불러오기__\n",
    "\n",
    "`PIL(Python Image Library) 모듈` : 이미지 표시"
   ]
  },
  {
   "cell_type": "code",
   "execution_count": 64,
   "metadata": {},
   "outputs": [
    {
     "name": "stdout",
     "output_type": "stream",
     "text": [
      "5\n",
      "(784,)\n",
      "(28, 28)\n"
     ]
    }
   ],
   "source": [
    "import numpy as np\n",
    "import sys, os\n",
    "sys.path.append(os.pardir)  # 부모 디렉터리의 파일을 가져올 수 있도록 설정\n",
    "from dataset.mnist import load_mnist\n",
    "from PIL import Image\n",
    "\n",
    "def img_show(img):\n",
    "    pil_img = Image.fromarray(np.uint8(img))  # Image.fromarray() : 넘파이로 저장된 이미지 데이터를 PIL용 데이터 객체로 변환\n",
    "    pil_img.show()\n",
    "\n",
    "# flatten=True로 설정해 1차원 넘파이 배열로 저장\n",
    "(x_train, t_train), (x_test, t_test) = load_mnist(flatten=True, normalize=False)\n",
    "\n",
    "img = x_train[0]\n",
    "label = t_train[0]\n",
    "print(label)\n",
    "\n",
    "print(img.shape)\n",
    "img = img.reshape(28, 28)  # 원래 이미지의 모양(28 X 28 크기)으로 변경\n",
    "print(img.shape)\n",
    "\n",
    "img_show(img)"
   ]
  },
  {
   "cell_type": "markdown",
   "metadata": {},
   "source": [
    "### 3.6.2 신경망의 추론 처리\n",
    "\n",
    "- 입력층 뉴런 - 784개 ($28 \\times 28$)\n",
    "- 출력층 뉴런 - 10개 (0~9의 숫자)\n",
    "- 은닉층 두 개\n",
    "    - 첫 번째 은닉층 - 50개의 뉴런 (임의의 값)\n",
    "    - 두 번째 은닉층 - 100개의 뉴런 (임의의 값)"
   ]
  },
  {
   "cell_type": "code",
   "execution_count": 55,
   "metadata": {},
   "outputs": [],
   "source": [
    "import pickle\n",
    "\n",
    "def get_data():\n",
    "    (x_train, t_train), (x_test, t_test) = load_mnist(flatten=True, normalize=True, one_hot_label=False)\n",
    "    \n",
    "    return x_test, t_test\n",
    "\n",
    "def init_network():\n",
    "    # sample_weight.pkl 파일에 가중치와 편향 매개변수가 딕셔너리 변수로 저장되어 있음.\n",
    "    with open(\"sample_weight.pkl\", 'rb') as f:\n",
    "        network = pickle.load(f)\n",
    "        \n",
    "    return network\n",
    "\n",
    "def predict(network, x):\n",
    "    W1, W2, W3 = network['W1'], network['W2'], network['W3']\n",
    "    b1, b2, b3 = network['b1'], network['b2'], network['b3']\n",
    "    \n",
    "    a1 = np.dot(x, W1) + b1\n",
    "    z1 = sigmoid(a1)\n",
    "    a2 = np.dot(z1, W2) + b2\n",
    "    z2 = sigmoid(a2)\n",
    "    a3 = np.dot(z2, W3) + b3\n",
    "    y = identity_function(a3)\n",
    "    \n",
    "    return y"
   ]
  },
  {
   "cell_type": "markdown",
   "metadata": {},
   "source": [
    "__정확도(accuracy) 평가__"
   ]
  },
  {
   "cell_type": "code",
   "execution_count": 56,
   "metadata": {},
   "outputs": [
    {
     "name": "stdout",
     "output_type": "stream",
     "text": [
      "Accuracy:0.9352\n"
     ]
    }
   ],
   "source": [
    "x, t = get_data()  # x: x_test, t: t_test\n",
    "network = init_network()\n",
    "\n",
    "accuracy_cnt = 0\n",
    "for i in range(len(x)):\n",
    "    y = predict(network, x[i])  # 각 레이블의 확률을 넘파이 배열로 반환. e.g. [0.1, 0.3, 0.2, ..., 0.04]\n",
    "    p = np.argmax(y)  # 확률이 가장 높은 원소의 인덱스(예측 결과)를 얻는다.\n",
    "    if p == t[i]:  # 신경망이 예측한 답변과 정답 레이블을 비교.\n",
    "        accuracy_cnt += 1\n",
    "        \n",
    "print('Accuracy:' + str(float(accuracy_cnt) / len(x)))  # 맞힌 숫자(accuracy_cnt)를 전체 이미지 숫자로 나눔."
   ]
  },
  {
   "cell_type": "markdown",
   "metadata": {},
   "source": [
    "__정규화(normalization)__ : 데이터를 특정 범위로 변환\n",
    "\n",
    "__전처리(preprocessing)__ : 신경망의 입력 데이터에 특정 변환을 가하는 것\n",
    "\n",
    "> 여기에서는 입력 이미지 데이터에 대한 __전처리__ 작업으로 __정규화__를 수행한 셈."
   ]
  },
  {
   "cell_type": "markdown",
   "metadata": {},
   "source": [
    "### 3.6.3 배치 처리\n",
    "\n",
    "다차원 배열의 대응하는 차원의 원소 수가 일치함."
   ]
  },
  {
   "cell_type": "code",
   "execution_count": 58,
   "metadata": {},
   "outputs": [
    {
     "name": "stdout",
     "output_type": "stream",
     "text": [
      "(10000, 784)\n",
      "(784,)\n",
      "(784, 50)\n",
      "(50, 100)\n",
      "(100, 10)\n"
     ]
    }
   ],
   "source": [
    "x, _ = get_data()\n",
    "network = init_network()\n",
    "W1, W2, W3 = network['W1'], network['W2'], network['W3']\n",
    "\n",
    "print(x.shape)\n",
    "print(x[0].shape)\n",
    "print(W1.shape)\n",
    "print(W2.shape)\n",
    "print(W3.shape)"
   ]
  },
  {
   "cell_type": "markdown",
   "metadata": {},
   "source": [
    "__이미지 데이터를 1장만 입력했을 때__\n",
    "<img src='./img/fig 3-26.png' width=500>\n",
    "- 원소가 784개인 1차원 배열이 입력\n",
    "- 원소가 10개인 1차원 배열이 출력\n",
    "\n",
    "<br>\n",
    "\n",
    "__이미지 100개를 묶어서 입력했을 때__\n",
    "<img src='./img/fig 3-27.png' width=500>\n",
    "- 입력 : $100 \\times 784$\n",
    "- 출력 : $100 \\times 10$\n",
    ">100장 분량 입력 데이터의 결과가 한 번에 출력됨\n",
    "\n",
    "<br>\n",
    "\n",
    "⇒ __배치(batch)__ : 하나로 묶은 입력 데이터"
   ]
  },
  {
   "cell_type": "markdown",
   "metadata": {},
   "source": [
    "※ NOTE_\n",
    "\n",
    "배치 처리는 컴퓨터로 계산할 때 큰 이점을 줌\n",
    "\n",
    "(컴퓨터에서는 큰 배열을 한꺼번에 계산하는 것이 분할된 작은 배열을 여러 번 계산하는 것보다 빠름)"
   ]
  },
  {
   "cell_type": "code",
   "execution_count": 60,
   "metadata": {},
   "outputs": [
    {
     "name": "stdout",
     "output_type": "stream",
     "text": [
      "Accuracy:0.9352\n"
     ]
    }
   ],
   "source": [
    "x, t = get_data()\n",
    "network = init_network()\n",
    "\n",
    "batch_size = 100  # 배치 크기\n",
    "accuracy_cnt = 0\n",
    "\n",
    "for i in range(0, len(x), batch_size):  # range(start, end, step)\n",
    "    x_batch = x[i:i+batch_size]  # 앞에서부터 batch_size만큼씩 묶어서 꺼냄.\n",
    "    y_batch = predict(network, x_batch)\n",
    "    p = np.argmax(y_batch, axis=1)  # axis=1: 100X10의 배열 중 1번째 차원을 구성하는 원소에서 최댓값의 인덱스\n",
    "    accuracy_cnt += np.sum(p == t[i:i+batch_size])  # True가 몇 개인지 계산.\n",
    "    \n",
    "print('Accuracy:' + str(float(accuracy_cnt) / len(x)))"
   ]
  },
  {
   "cell_type": "code",
   "execution_count": 61,
   "metadata": {},
   "outputs": [
    {
     "name": "stdout",
     "output_type": "stream",
     "text": [
      "[1 2 1 0]\n"
     ]
    }
   ],
   "source": [
    "x = np.array([[0.1, 0.8, 0.1], [0.3, 0.1, 0.6], [0.2, 0.5, 0.3], [0.8, 0.1, 0.1]])\n",
    "y = np.argmax(x, axis=1)\n",
    "print(y)"
   ]
  },
  {
   "cell_type": "code",
   "execution_count": 63,
   "metadata": {
    "scrolled": true
   },
   "outputs": [
    {
     "name": "stdout",
     "output_type": "stream",
     "text": [
      "[ True  True False  True]\n",
      "3\n"
     ]
    }
   ],
   "source": [
    "y = np.array([1, 2, 1, 0])\n",
    "t = np.array([1, 2, 0, 0])\n",
    "print(y==t)\n",
    "print(np.sum(y==t))"
   ]
  },
  {
   "cell_type": "markdown",
   "metadata": {},
   "source": [
    "데이터를 배치로 처리함으로써 효율적이고 빠르게 처리할 수 있음."
   ]
  }
 ],
 "metadata": {
  "kernelspec": {
   "display_name": "Python 3",
   "language": "python",
   "name": "python3"
  },
  "language_info": {
   "codemirror_mode": {
    "name": "ipython",
    "version": 3
   },
   "file_extension": ".py",
   "mimetype": "text/x-python",
   "name": "python",
   "nbconvert_exporter": "python",
   "pygments_lexer": "ipython3",
   "version": "3.8.5"
  }
 },
 "nbformat": 4,
 "nbformat_minor": 4
}
